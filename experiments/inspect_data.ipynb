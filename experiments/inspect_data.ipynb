{
 "cells": [
  {
   "cell_type": "code",
   "execution_count": 2,
   "metadata": {},
   "outputs": [
    {
     "name": "stderr",
     "output_type": "stream",
     "text": [
      "Filter: 100%|██████████| 5000/5000 [00:00<00:00, 11992.94 examples/s]\n"
     ]
    }
   ],
   "source": [
    "from helpers import extract_code, get_dataset\n",
    "\n",
    "\n",
    "dataset = get_apps_dataset()"
   ]
  },
  {
   "cell_type": "code",
   "execution_count": 17,
   "metadata": {},
   "outputs": [],
   "source": [
    "system_message = \"\"\"You are an expert Python programmer. You will be given a question (problem specification) and will generate a\n",
    "correct Python program that matches the specification and passes all tests. You will NOT return\n",
    "anything except for the program. Put your fixed program within code delimiters, for example: ```python```. Do not call the function, just define it.\"\"\"\n",
    "user_message = sample['question']"
   ]
  },
  {
   "cell_type": "code",
   "execution_count": 18,
   "metadata": {},
   "outputs": [
    {
     "name": "stdout",
     "output_type": "stream",
     "text": [
      "Tokens Used: 813\n",
      "\tPrompt Tokens: 621\n",
      "\tCompletion Tokens: 192\n",
      "Successful Requests: 1\n",
      "Total Cost (USD): $0.03015\n"
     ]
    }
   ],
   "source": [
    "def CodeModel():\n",
    "    return llm\n",
    "\n",
    "from langchain.schema import SystemMessage, HumanMessage\n",
    "from langchain.callbacks import get_openai_callback\n",
    "\n",
    "messages = [\n",
    "    SystemMessage(\n",
    "        content=system_message,\n",
    "    ),\n",
    "    HumanMessage(\n",
    "        content=user_message,\n",
    "    ),\n",
    "]\n",
    "\n",
    "with get_openai_callback() as cb:\n",
    "    response = llm(messages)\n",
    "    print(cb)\n"
   ]
  },
  {
   "cell_type": "code",
   "execution_count": 21,
   "metadata": {},
   "outputs": [
    {
     "name": "stdout",
     "output_type": "stream",
     "text": [
      "\n",
      "def minimum_D(n, a):\n",
      "    a = sorted(a)\n",
      "    if (a[-1] - a[0]) % 2 == 0:\n",
      "        D = (a[-1] - a[0]) // 2\n",
      "        for i in range(n):\n",
      "            if a[i] < a[0] + D:\n",
      "                a[i] += D\n",
      "            elif a[i] > a[0] + D:\n",
      "                a[i] -= D\n",
      "        if len(set(a)) == 1:\n",
      "            return D\n",
      "    D = a[-1] - a[0]\n",
      "    for i in range(n):\n",
      "        if a[i] < a[0] + D:\n",
      "            a[i] += D\n",
      "        elif a[i] > a[0] + D:\n",
      "            a[i] -= D\n",
      "    if len(set(a)) == 1:\n",
      "        return D\n",
      "    return -1\n",
      "\n"
     ]
    }
   ],
   "source": [
    "code = extract_code(response.content)\n",
    "\n",
    "print(code)\n",
    "# exec(code, globals())\n"
   ]
  }
 ],
 "metadata": {
  "kernelspec": {
   "display_name": "print",
   "language": "python",
   "name": "python3"
  },
  "language_info": {
   "codemirror_mode": {
    "name": "ipython",
    "version": 3
   },
   "file_extension": ".py",
   "mimetype": "text/x-python",
   "name": "python",
   "nbconvert_exporter": "python",
   "pygments_lexer": "ipython3",
   "version": "3.10.0"
  }
 },
 "nbformat": 4,
 "nbformat_minor": 2
}
