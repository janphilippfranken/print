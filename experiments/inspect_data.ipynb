{
 "cells": [
  {
   "cell_type": "code",
   "execution_count": 73,
   "metadata": {},
   "outputs": [],
   "source": [
    "from datasets import load_dataset\n",
    "import json\n",
    "import openai\n",
    "\n",
    "from model_costs import calc_cost\n",
    "from helpers import extract_code\n",
    "\n",
    "# Load the full dataset\n",
    "dataset = load_dataset(\"codeparrot/apps\", split=\"test\")\n",
    "\n",
    "# Load the interview JSON file\n",
    "with open(\"introductory.json\") as f:\n",
    "   introductory_json = json.load(f)\n",
    "\n",
    "# Remove leading zeros and convert to string\n",
    "introductory_json = [str(int(i)) for i in introductory_json]\n",
    "\n",
    "# Use a single filter operation instead of a loop\n",
    "# This assumes 'problem_id' is a column in your dataset.\n",
    "filtered_data = dataset.filter(lambda example: str(example[\"problem_id\"]) in introductory_json)\n"
   ]
  },
  {
   "cell_type": "code",
   "execution_count": 74,
   "metadata": {},
   "outputs": [
    {
     "name": "stdout",
     "output_type": "stream",
     "text": [
      "dict_keys(['problem_id', 'question', 'solutions', 'input_output', 'difficulty', 'url', 'starter_code'])\n"
     ]
    }
   ],
   "source": [
    "sample = filtered_data[3]\n",
    "sample[\"solutions\"] = json.loads(sample[\"solutions\"])\n",
    "sample[\"input_output\"] = json.loads(sample[\"input_output\"])\n",
    "print(sample.keys())"
   ]
  },
  {
   "cell_type": "code",
   "execution_count": 75,
   "metadata": {},
   "outputs": [],
   "source": [
    "system_message = \"\"\"You are an expert Python programmer. You will be given a question (problem specification) and will generate a\n",
    "correct Python program that matches the specification and passes all tests. You will NOT return\n",
    "anything except for the program. Put your fixed program within code delimiters, for example: ```python```. Do not call the function, just define it.\"\"\"\n",
    "user_message = sample['question']"
   ]
  },
  {
   "cell_type": "code",
   "execution_count": 76,
   "metadata": {},
   "outputs": [
    {
     "name": "stderr",
     "output_type": "stream",
     "text": [
      "2023-11-03 16:14:53,065 INFO input_tokens=770, output_tokens=82, cost=0.07\n"
     ]
    }
   ],
   "source": [
    "import openai\n",
    "\n",
    "\n",
    "BASE_URL = \"https://philipp.openai.azure.com/\"\n",
    "API_KEY = \"\"\n",
    "DEPLOYMENT_NAME = \"gpt-4\"\n",
    "\n",
    "openai.api_key = API_KEY\n",
    "openai.api_base = BASE_URL\n",
    "openai.api_type = 'azure'\n",
    "openai.api_version = '2023-05-15' # this may change in the future\n",
    "\n",
    "\n",
    "\n",
    "response = openai.ChatCompletion.create(\n",
    "                engine=\"gpt-4\",\n",
    "                messages=[\n",
    "                    {\"role\": \"system\", \"content\": system_message},\n",
    "                    {\"role\": \"user\", \"content\": user_message},\n",
    "                ],\n",
    "                temperature=0.2,\n",
    "                max_tokens=500,\n",
    "                n=1,\n",
    "            )\n",
    "\n",
    "\n",
    "cost = calc_cost(response)\n",
    "completion = response.choices[0]['message']['content']"
   ]
  },
  {
   "cell_type": "code",
   "execution_count": 64,
   "metadata": {},
   "outputs": [
    {
     "name": "stdout",
     "output_type": "stream",
     "text": [
      "\n",
      "def max_problems(n, a):\n",
      "    max_len = 1\n",
      "    cur_len = 1\n",
      "    for i in range(1, n):\n",
      "        if a[i] <= 2 * a[i - 1]:\n",
      "            cur_len += 1\n",
      "        else:\n",
      "            max_len = max(max_len, cur_len)\n",
      "            cur_len = 1\n",
      "    max_len = max(max_len, cur_len)\n",
      "    return max_len\n",
      "\n"
     ]
    }
   ],
   "source": [
    "code = extract_code(completion)\n",
    "\n",
    "print(code)\n",
    "exec(code, globals())\n"
   ]
  },
  {
   "cell_type": "code",
   "execution_count": 68,
   "metadata": {},
   "outputs": [
    {
     "name": "stdout",
     "output_type": "stream",
     "text": [
      "3\n"
     ]
    }
   ],
   "source": [
    "\n",
    "n = 6\n",
    "a = [4, 7, 12, 100, 150, 199]\n",
    "\n",
    "max_problems(n, a)\n",
    "\n",
    "ans = [1]\n",
    "t = 1\n",
    "\n",
    "for i in range(n - 1):\n",
    "    if a[i + 1] / a[i] <= 2:\n",
    "        t += 1\n",
    "\n",
    "    else:\n",
    "        t = 1\n",
    "\n",
    "    ans.append(t)\n",
    "\n",
    "print(max(ans))"
   ]
  }
 ],
 "metadata": {
  "kernelspec": {
   "display_name": "print",
   "language": "python",
   "name": "python3"
  },
  "language_info": {
   "codemirror_mode": {
    "name": "ipython",
    "version": 3
   },
   "file_extension": ".py",
   "mimetype": "text/x-python",
   "name": "python",
   "nbconvert_exporter": "python",
   "pygments_lexer": "ipython3",
   "version": "3.10.0"
  }
 },
 "nbformat": 4,
 "nbformat_minor": 2
}
