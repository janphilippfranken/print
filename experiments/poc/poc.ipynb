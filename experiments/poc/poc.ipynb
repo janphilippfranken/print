{
 "cells": [
  {
   "cell_type": "code",
   "execution_count": 99,
   "metadata": {},
   "outputs": [],
   "source": [
    "from parity_task_feedback import parity_task_feedback"
   ]
  },
  {
   "cell_type": "code",
   "execution_count": 100,
   "metadata": {},
   "outputs": [
    {
     "name": "stdout",
     "output_type": "stream",
     "text": [
      "[0 0 1 1 1 1 0 1 1 0 1 0 0 0 0 1 0 0 1 1]\n",
      "(50, 10)\n",
      "(50,)\n",
      "(50, 1)\n",
      "all the input array dimensions for the concatenation axis must match exactly, but along dimension 0, the array at index 0 has size 50 and the array at index 1 has size 1\n"
     ]
    }
   ],
   "source": [
    "n_bits = 10\n",
    "p_true = 0.3\n",
    "n_train_samples = 50\n",
    "n_test_samples = 20\n",
    "true_bits = np.random.binomial(1, p_true, n_bits)\n",
    "samples = np.random.binomial(1, 0.5, (n_train_samples + n_test_samples, n_bits))\n",
    "masked_samples = samples * true_bits\n",
    "parity = np.sum(masked_samples, axis=1) % 2\n",
    "train_samples = samples[:n_train_samples]\n",
    "train_parity = parity[:n_train_samples]\n",
    "\n",
    "test_samples = samples[n_train_samples:]\n",
    "test_parity = parity[n_train_samples:]\n",
    "# Because algorithm is a string, we can’t call it directly. Instead, we can use eval to evaluate it as a Python expression.\n",
    "\n",
    "print(test_parity)\n",
    "\n",
    "try:\n",
    "    predictions = algorithm(train_samples, train_parity, test_samples)\n",
    "except Exception as e:\n",
    "    print(e)\n",
    "\n",
    "np.sum(predictions == test_parity) / n_test_samples\n"
   ]
  },
  {
   "cell_type": "code",
   "execution_count": 96,
   "metadata": {},
   "outputs": [],
   "source": [
    "\n",
    "\n",
    "performance, message = utility_func(algorithm_str=algorithm_str)"
   ]
  },
  {
   "cell_type": "code",
   "execution_count": 118,
   "metadata": {},
   "outputs": [
    {
     "name": "stdout",
     "output_type": "stream",
     "text": [
      "import numpy as np\n",
      "\n",
      "def algorithm(train_samples, train_parity, test_samples):\n",
      "    n = train_samples.shape[1]\n",
      "    aug_matrix = np.hstack((train_samples, train_parity.reshape(1, -1)))\n",
      "    for i in range(n):\n",
      "        pivot = np.where(aug_matrix[i:, i] == 1)[0]\n",
      "        if len(pivot) > 0:\n",
      "            pivot_row = pivot[0] + i\n",
      "            if pivot_row != i:\n",
      "                aug_matrix[[i, pivot_row]] = aug_matrix[[pivot_row, i]]\n",
      "            for j in range(i + 1, len(aug_matrix)):\n",
      "                if aug_matrix[j, i] == 1:\n",
      "                    aug_matrix[j] = (aug_matrix[j] - aug_matrix[i]) % 2\n",
      "    true_bits = np.zeros(n, dtype=int)\n",
      "    for i in reversed(range(n)):\n",
      "        true_bits[i] = aug_matrix[i, n]\n",
      "        for j in range(i + 1, n):\n",
      "            if aug_matrix[i, j] == 1:\n",
      "                true_bits[i] ^= true_bits[j]\n",
      "    test_parity = np.sum(true_bits + test_samples, axis=1) % 2\n",
      "    return test_parity\n",
      "(0.016666666666666666, '')\n"
     ]
    }
   ],
   "source": [
    "\n",
    "from parity_task_feedback import parity_task_feedback\n",
    "\n",
    "\n",
    "parity_task_feedback.utility.func, parity_task_feedback.utility.str = parity_task_feedback.utility.get_utility()\n",
    "initial_solution = parity_task_feedback.get_solution()\n",
    "print(initial_solution)\n",
    "initial_solution = \"\"\"import numpy as np\n",
    "\n",
    "def algorithm(train_samples, train_parity, test_samples):\n",
    "    n = train_samples.shape[1]\n",
    "    aug_matrix = np.hstack((train_samples, train_parity.reshape(-1, 1))) # Fix here\n",
    "    for i in range(n):\n",
    "        pivot = np.where(aug_matrix[i:, i] == 1)[0]\n",
    "        if len(pivot) > 0:\n",
    "            pivot_row = pivot[0] + i\n",
    "            if pivot_row != i:\n",
    "                aug_matrix[[i, pivot_row]] = aug_matrix[[pivot_row, i]]\n",
    "            for j in range(i + 1, len(aug_matrix)):\n",
    "                if aug_matrix[j, i] == 1:\n",
    "                    aug_matrix[j] = (aug_matrix[j] - aug_matrix[i]) % 2\n",
    "    true_bits = np.zeros(n, dtype=int)\n",
    "    for i in reversed(range(n)):\n",
    "        true_bits[i] = aug_matrix[i, n]\n",
    "        for j in range(i + 1, n):\n",
    "            if aug_matrix[i, j] == 1:\n",
    "                true_bits[i] ^= true_bits[j]\n",
    "    test_parity = np.sum(true_bits + test_samples, axis=1) % 2\n",
    "    return test_parity\"\"\"\n",
    "print(parity_task_feedback.utility.func(initial_solution))\n",
    "# parity_task_feedback.add_solution(improve_algorithm(parity_task_feedback.get_solution, parity_task_feedback.utility, language_model))\n",
    "\n",
    "# print(parity_task_feedback.solutions)"
   ]
  },
  {
   "cell_type": "code",
   "execution_count": 114,
   "metadata": {},
   "outputs": [],
   "source": [
    "from helpers import extract_code\n",
    "\n",
    "def improve_algorithm(initial_solution, utility, language_model):\n",
    "\n",
    "    \"\"\"Improves a solution according to a utility function.\"\"\"\n",
    "    \n",
    "    expertise = \"You are an expert computer science researcher and programmer, especially skilled at optimizing algorithms.\"\n",
    "\n",
    "    debug_message = f\"\"\"You are given the following solution to a problem:\n",
    "```python\n",
    "{initial_solution}\n",
    "```\n",
    "\n",
    "You will be evaluated based on this score function:\n",
    "```python\n",
    "{utility.str}\n",
    "```\n",
    "\n",
    "The score of the current solution is {utility.func(initial_solution)[0]}.\n",
    "Error messages / print statements returned from the current solution are: {utility.func(initial_solution)[1]}.\n",
    "\n",
    "You must better understand the problems with the current solution by inserting print statements to debug the solution. The output of these print statements will be used to fix the solution using a language model.\"\"\"\n",
    "    debug_solutions = language_model.batch_prompt(expertise, [debug_message] * language_model.budget)\n",
    "    debug_solutions = extract_code(debug_solutions)\n",
    "\n",
    "    \n",
    "    repair_message = f\"\"\"You are given the following solution to a problem:\n",
    "\n",
    "```python\n",
    "{initial_solution}\n",
    "```\n",
    "\n",
    "You will be evaluated based on this score function:\n",
    "```python\n",
    "{utility.str}\n",
    "```\n",
    "\n",
    "The score of the current solution is {utility.func(initial_solution)[0]}.\n",
    "Error messages / print statements from the debug solution are: {utility.func(debug_solution)[1]}.\n",
    "\n",
    "You must return an improved solution. Be as creative as you can under the constraints.\n",
    "Your primary improvement must be novel and non-trivial. First, propose an idea, then implement it.\"\"\"\n",
    "    repair_solutions = language_model.batch_prompt(expertise, [repair_message.format(solution=debug_solution) for debug_solution in debug_solutions])\n",
    "    repair_solutions = extract_code(repair_solutions)\n",
    "    best_solution = max(repair_solutions, key=lambda x: utility.func(x))\n",
    "    return best_solution"
   ]
  },
  {
   "cell_type": "code",
   "execution_count": 110,
   "metadata": {},
   "outputs": [
    {
     "name": "stdout",
     "output_type": "stream",
     "text": [
      "\n",
      "import numpy as np\n",
      "\n",
      "def algorithm(train_samples, train_parity, test_samples):\n",
      "    print(f\"train_samples shape: {train_samples.shape}\")\n",
      "    print(f\"train_parity shape: {train_parity.shape}\")\n",
      "    print(f\"test_samples shape: {test_samples.shape}\")\n",
      "    \n",
      "    n = train_samples.shape[1]\n",
      "    \n",
      "    print(f\"Reshaped train_parity shape: {train_parity.reshape(1, -1).shape}\")\n",
      "    \n",
      "    try:\n",
      "        aug_matrix = np.hstack((train_samples, train_parity.reshape(1, -1)))\n",
      "    except Exception as e:\n",
      "        print(f\"Error while creating aug_matrix: {e}\")\n",
      "        return None\n",
      "    \n",
      "    for i in range(n):\n",
      "        pivot = np.where(aug_matrix[i:, i] == 1)[0]\n",
      "        if len(pivot) > 0:\n",
      "            pivot_row = pivot[0] + i\n",
      "            if pivot_row != i:\n",
      "                aug_matrix[[i, pivot_row]] = aug_matrix[[pivot_row, i]]\n",
      "            for j in range(i + 1, len(aug_matrix)):\n",
      "                if aug_matrix[j, i] == 1:\n",
      "                    aug_matrix[j] = (aug_matrix[j] - aug_matrix[i]) % 2\n",
      "                    \n",
      "    true_bits = np.zeros(n, dtype=int)\n",
      "    for i in reversed(range(n)):\n",
      "        true_bits[i] = aug_matrix[i, n]\n",
      "        for j in range(i + 1, n):\n",
      "            if aug_matrix[i, j] == 1:\n",
      "                true_bits[i] ^= true_bits[j]\n",
      "                \n",
      "    test_parity = np.sum(true_bits + test_samples, axis=1) % 2\n",
      "    return test_parity\n",
      "\n"
     ]
    }
   ],
   "source": [
    "returns = ['\\nimport numpy as np\\n\\ndef algorithm(train_samples, train_parity, test_samples):\\n    print(f\"train_samples shape: {train_samples.shape}\")\\n    print(f\"train_parity shape: {train_parity.shape}\")\\n    print(f\"test_samples shape: {test_samples.shape}\")\\n    \\n    n = train_samples.shape[1]\\n    \\n    print(f\"Reshaped train_parity shape: {train_parity.reshape(1, -1).shape}\")\\n    \\n    try:\\n        aug_matrix = np.hstack((train_samples, train_parity.reshape(1, -1)))\\n    except Exception as e:\\n        print(f\"Error while creating aug_matrix: {e}\")\\n        return None\\n    \\n    for i in range(n):\\n        pivot = np.where(aug_matrix[i:, i] == 1)[0]\\n        if len(pivot) > 0:\\n            pivot_row = pivot[0] + i\\n            if pivot_row != i:\\n                aug_matrix[[i, pivot_row]] = aug_matrix[[pivot_row, i]]\\n            for j in range(i + 1, len(aug_matrix)):\\n                if aug_matrix[j, i] == 1:\\n                    aug_matrix[j] = (aug_matrix[j] - aug_matrix[i]) % 2\\n                    \\n    true_bits = np.zeros(n, dtype=int)\\n    for i in reversed(range(n)):\\n        true_bits[i] = aug_matrix[i, n]\\n        for j in range(i + 1, n):\\n            if aug_matrix[i, j] == 1:\\n                true_bits[i] ^= true_bits[j]\\n                \\n    test_parity = np.sum(true_bits + test_samples, axis=1) % 2\\n    return test_parity\\n']\n",
    "print(returns[0])"
   ]
  },
  {
   "cell_type": "code",
   "execution_count": 113,
   "metadata": {},
   "outputs": [
    {
     "name": "stdout",
     "output_type": "stream",
     "text": [
      "train_samples shape: (80, 10)\n",
      "train_parity shape: (80,)\n",
      "test_samples shape: (20, 10)\n",
      "Reshaped train_parity shape: (1, 80)\n",
      "Error while creating aug_matrix: all the input array dimensions for the concatenation axis must match exactly, but along dimension 0, the array at index 0 has size 80 and the array at index 1 has size 1\n",
      "train_samples shape: (80, 10)\n",
      "train_parity shape: (80,)\n",
      "test_samples shape: (20, 10)\n",
      "Reshaped train_parity shape: (1, 80)\n",
      "Error while creating aug_matrix: all the input array dimensions for the concatenation axis must match exactly, but along dimension 0, the array at index 0 has size 80 and the array at index 1 has size 1\n",
      "train_samples shape: (80, 10)\n",
      "train_parity shape: (80,)\n",
      "test_samples shape: (20, 10)\n",
      "Reshaped train_parity shape: (1, 80)\n",
      "Error while creating aug_matrix: all the input array dimensions for the concatenation axis must match exactly, but along dimension 0, the array at index 0 has size 80 and the array at index 1 has size 1\n",
      "\n"
     ]
    }
   ],
   "source": [
    "print(parity_task_feedback.utility.func(returns[0])[1])"
   ]
  },
  {
   "cell_type": "code",
   "execution_count": null,
   "metadata": {},
   "outputs": [],
   "source": []
  }
 ],
 "metadata": {
  "kernelspec": {
   "display_name": "print",
   "language": "python",
   "name": "python3"
  },
  "language_info": {
   "codemirror_mode": {
    "name": "ipython",
    "version": 3
   },
   "file_extension": ".py",
   "mimetype": "text/x-python",
   "name": "python",
   "nbconvert_exporter": "python",
   "pygments_lexer": "ipython3",
   "version": "3.10.0"
  }
 },
 "nbformat": 4,
 "nbformat_minor": 2
}
