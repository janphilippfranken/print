{
 "cells": [
  {
   "cell_type": "code",
   "execution_count": 1,
   "metadata": {},
   "outputs": [],
   "source": [
    "from printlm.agents.llm import LLMAgent\n",
    "from printlm.chat_models.azure import AzureChatLLM\n",
    "import os\n",
    "\n",
    "from parity_task import task_utility, algorithm_str\n",
    "from improve import improver\n",
    "from helpers import extract_code\n",
    "\n",
    "llm = AzureChatLLM(azure_endpoint=\"https://philipp.openai.azure.com/\",\n",
    "                   api_key=\"\",\n",
    "                   api_version=\"2023-05-15\")\n",
    "\n",
    "\n",
    "language_model = LLMAgent(llm=llm, budget=2, model_id=\"1\", model=\"gpt-4\", max_tokens=1000, temperature=0.7, top_p=0.95, n=1)"
   ]
  },
  {
   "cell_type": "code",
   "execution_count": 2,
   "metadata": {},
   "outputs": [
    {
     "ename": "TypeError",
     "evalue": "'coroutine' object is not iterable",
     "output_type": "error",
     "traceback": [
      "\u001b[0;31m---------------------------------------------------------------------------\u001b[0m",
      "\u001b[0;31mTypeError\u001b[0m                                 Traceback (most recent call last)",
      "\u001b[1;32m/Users/iphilipp/Documents/research/print/experiments/poc/poc.ipynb Cell 2\u001b[0m line \u001b[0;36m1\n\u001b[0;32m----> <a href='vscode-notebook-cell:/Users/iphilipp/Documents/research/print/experiments/poc/poc.ipynb#W6sZmlsZQ%3D%3D?line=0'>1</a>\u001b[0m new_algorithm_str \u001b[39m=\u001b[39m improver\u001b[39m.\u001b[39;49mfunc(algorithm_str, task_utility, language_model)\n",
      "File \u001b[0;32m~/Documents/research/print/experiments/poc/improve.py:22\u001b[0m, in \u001b[0;36mimprove_algorithm\u001b[0;34m(initial_solution, utility, language_model)\u001b[0m\n\u001b[1;32m     20\u001b[0m \u001b[39mfor\u001b[39;00m _ \u001b[39min\u001b[39;00m \u001b[39mrange\u001b[39m(language_model\u001b[39m.\u001b[39mbudget):\n\u001b[1;32m     21\u001b[0m     new_solution \u001b[39m=\u001b[39m language_model\u001b[39m.\u001b[39mrun(expertise\u001b[39m=\u001b[39mexpertise, message\u001b[39m=\u001b[39mmessage)\n\u001b[0;32m---> 22\u001b[0m     new_solution \u001b[39m=\u001b[39m extract_code(new_solution) \n\u001b[1;32m     23\u001b[0m     new_solutions\u001b[39m.\u001b[39mappend(new_solution)\n\u001b[1;32m     24\u001b[0m best_solution \u001b[39m=\u001b[39m \u001b[39mmax\u001b[39m(new_solutions, key\u001b[39m=\u001b[39m\u001b[39mlambda\u001b[39;00m x: utility\u001b[39m.\u001b[39mfunc(x))\n",
      "File \u001b[0;32m~/Documents/research/print/experiments/poc/helpers.py:17\u001b[0m, in \u001b[0;36mextract_code\u001b[0;34m(algorithm_strs)\u001b[0m\n\u001b[1;32m     13\u001b[0m \u001b[39mdef\u001b[39;00m \u001b[39mextract_code\u001b[39m(\n\u001b[1;32m     14\u001b[0m         algorithm_strs: List[\u001b[39mstr\u001b[39m],\n\u001b[1;32m     15\u001b[0m     ) \u001b[39m-\u001b[39m\u001b[39m>\u001b[39m \u001b[39mstr\u001b[39m:\n\u001b[1;32m     16\u001b[0m \u001b[39m        \u001b[39m\u001b[39m\"\"\"Extract code from algorithm string.\"\"\"\u001b[39;00m\n\u001b[0;32m---> 17\u001b[0m         code \u001b[39m=\u001b[39m [algorithm_str\u001b[39m.\u001b[39msplit(\u001b[39m\"\u001b[39m\u001b[39m```\u001b[39m\u001b[39m\"\u001b[39m)[\u001b[39m1\u001b[39m][\u001b[39m6\u001b[39m:] \u001b[39mfor\u001b[39;00m algorithm_str \u001b[39min\u001b[39;00m algorithm_strs]\n\u001b[1;32m     18\u001b[0m         \u001b[39mreturn\u001b[39;00m code\n",
      "\u001b[0;31mTypeError\u001b[0m: 'coroutine' object is not iterable"
     ]
    }
   ],
   "source": [
    "new_algorithm_str = improver.func(algorithm_str, task_utility, language_model)"
   ]
  },
  {
   "cell_type": "code",
   "execution_count": 2,
   "metadata": {},
   "outputs": [
    {
     "ename": "RuntimeError",
     "evalue": "This event loop is already running",
     "output_type": "error",
     "traceback": [
      "\u001b[0;31m---------------------------------------------------------------------------\u001b[0m",
      "\u001b[0;31mRuntimeError\u001b[0m                              Traceback (most recent call last)",
      "\u001b[1;32m/Users/iphilipp/Documents/research/print/experiments/poc/poc.ipynb Cell 3\u001b[0m line \u001b[0;36m2\n\u001b[1;32m     <a href='vscode-notebook-cell:/Users/iphilipp/Documents/research/print/experiments/poc/poc.ipynb#X10sZmlsZQ%3D%3D?line=19'>20</a>\u001b[0m     best_solution \u001b[39m=\u001b[39m \u001b[39mmax\u001b[39m(new_solutions, key\u001b[39m=\u001b[39m\u001b[39mlambda\u001b[39;00m x: utility\u001b[39m.\u001b[39mfunc(x))\n\u001b[1;32m     <a href='vscode-notebook-cell:/Users/iphilipp/Documents/research/print/experiments/poc/poc.ipynb#X10sZmlsZQ%3D%3D?line=20'>21</a>\u001b[0m     \u001b[39mreturn\u001b[39;00m best_solution\n\u001b[0;32m---> <a href='vscode-notebook-cell:/Users/iphilipp/Documents/research/print/experiments/poc/poc.ipynb#X10sZmlsZQ%3D%3D?line=22'>23</a>\u001b[0m result \u001b[39m=\u001b[39m improve_algorithm(algorithm_str, task_utility, language_model)\n",
      "\u001b[1;32m/Users/iphilipp/Documents/research/print/experiments/poc/poc.ipynb Cell 3\u001b[0m line \u001b[0;36m1\n\u001b[1;32m      <a href='vscode-notebook-cell:/Users/iphilipp/Documents/research/print/experiments/poc/poc.ipynb#X10sZmlsZQ%3D%3D?line=4'>5</a>\u001b[0m     expertise \u001b[39m=\u001b[39m \u001b[39m\"\u001b[39m\u001b[39mYou are an expert computer science researcher and programmer, especially skilled at optimizing algorithms.\u001b[39m\u001b[39m\"\u001b[39m\n\u001b[1;32m      <a href='vscode-notebook-cell:/Users/iphilipp/Documents/research/print/experiments/poc/poc.ipynb#X10sZmlsZQ%3D%3D?line=6'>7</a>\u001b[0m     message \u001b[39m=\u001b[39m \u001b[39mf\u001b[39m\u001b[39m\"\"\"\u001b[39m\u001b[39mImprove the following solution:\u001b[39m\n\u001b[1;32m      <a href='vscode-notebook-cell:/Users/iphilipp/Documents/research/print/experiments/poc/poc.ipynb#X10sZmlsZQ%3D%3D?line=7'>8</a>\u001b[0m \u001b[39m```python\u001b[39m\n\u001b[1;32m      <a href='vscode-notebook-cell:/Users/iphilipp/Documents/research/print/experiments/poc/poc.ipynb#X10sZmlsZQ%3D%3D?line=8'>9</a>\u001b[0m \u001b[39m{\u001b[39;00minitial_solution\u001b[39m}\u001b[39;00m\n\u001b[0;32m   (...)\u001b[0m\n\u001b[1;32m     <a href='vscode-notebook-cell:/Users/iphilipp/Documents/research/print/experiments/poc/poc.ipynb#X10sZmlsZQ%3D%3D?line=15'>16</a>\u001b[0m \u001b[39mYou must return an improved solution. Be as creative as you can under the constraints.\u001b[39m\n\u001b[1;32m     <a href='vscode-notebook-cell:/Users/iphilipp/Documents/research/print/experiments/poc/poc.ipynb#X10sZmlsZQ%3D%3D?line=16'>17</a>\u001b[0m \u001b[39mYour primary improvement must be novel and non-trivial. First, propose an idea, then implement it.\u001b[39m\u001b[39m\"\"\"\u001b[39m\n\u001b[0;32m---> <a href='vscode-notebook-cell:/Users/iphilipp/Documents/research/print/experiments/poc/poc.ipynb#X10sZmlsZQ%3D%3D?line=17'>18</a>\u001b[0m     new_solutions \u001b[39m=\u001b[39m language_model\u001b[39m.\u001b[39;49mbatch_prompt(expertise, [message] \u001b[39m*\u001b[39;49m language_model\u001b[39m.\u001b[39;49mbudget)\n\u001b[1;32m     <a href='vscode-notebook-cell:/Users/iphilipp/Documents/research/print/experiments/poc/poc.ipynb#X10sZmlsZQ%3D%3D?line=18'>19</a>\u001b[0m     new_solutions \u001b[39m=\u001b[39m extract_code(new_solutions)\n\u001b[1;32m     <a href='vscode-notebook-cell:/Users/iphilipp/Documents/research/print/experiments/poc/poc.ipynb#X10sZmlsZQ%3D%3D?line=19'>20</a>\u001b[0m     best_solution \u001b[39m=\u001b[39m \u001b[39mmax\u001b[39m(new_solutions, key\u001b[39m=\u001b[39m\u001b[39mlambda\u001b[39;00m x: utility\u001b[39m.\u001b[39mfunc(x))\n",
      "File \u001b[0;32m~/Documents/research/print/src/printlm/agents/llm.py:134\u001b[0m, in \u001b[0;36mLLMAgent.batch_prompt\u001b[0;34m(self, expertise, messages, temperature)\u001b[0m\n\u001b[1;32m    123\u001b[0m \u001b[39m\u001b[39m\u001b[39m\"\"\"\u001b[39;00m\n\u001b[1;32m    124\u001b[0m \u001b[39mSynchronous wrapper for batch_prompt.\u001b[39;00m\n\u001b[1;32m    125\u001b[0m \n\u001b[0;32m   (...)\u001b[0m\n\u001b[1;32m    131\u001b[0m \u001b[39m    A list of responses from the code model for each message\u001b[39;00m\n\u001b[1;32m    132\u001b[0m \u001b[39m\"\"\"\u001b[39;00m\n\u001b[1;32m    133\u001b[0m loop \u001b[39m=\u001b[39m asyncio\u001b[39m.\u001b[39mget_event_loop()\n\u001b[0;32m--> 134\u001b[0m \u001b[39mreturn\u001b[39;00m loop\u001b[39m.\u001b[39;49mrun_until_complete(\u001b[39mself\u001b[39;49m\u001b[39m.\u001b[39;49mbatch_prompt_sync(expertise, messages, temperature))\n",
      "File \u001b[0;32m~/miniforge3/envs/print/lib/python3.10/asyncio/base_events.py:617\u001b[0m, in \u001b[0;36mBaseEventLoop.run_until_complete\u001b[0;34m(self, future)\u001b[0m\n\u001b[1;32m    606\u001b[0m \u001b[39m\u001b[39m\u001b[39m\"\"\"Run until the Future is done.\u001b[39;00m\n\u001b[1;32m    607\u001b[0m \n\u001b[1;32m    608\u001b[0m \u001b[39mIf the argument is a coroutine, it is wrapped in a Task.\u001b[39;00m\n\u001b[0;32m   (...)\u001b[0m\n\u001b[1;32m    614\u001b[0m \u001b[39mReturn the Future's result, or raise its exception.\u001b[39;00m\n\u001b[1;32m    615\u001b[0m \u001b[39m\"\"\"\u001b[39;00m\n\u001b[1;32m    616\u001b[0m \u001b[39mself\u001b[39m\u001b[39m.\u001b[39m_check_closed()\n\u001b[0;32m--> 617\u001b[0m \u001b[39mself\u001b[39;49m\u001b[39m.\u001b[39;49m_check_running()\n\u001b[1;32m    619\u001b[0m new_task \u001b[39m=\u001b[39m \u001b[39mnot\u001b[39;00m futures\u001b[39m.\u001b[39misfuture(future)\n\u001b[1;32m    620\u001b[0m future \u001b[39m=\u001b[39m tasks\u001b[39m.\u001b[39mensure_future(future, loop\u001b[39m=\u001b[39m\u001b[39mself\u001b[39m)\n",
      "File \u001b[0;32m~/miniforge3/envs/print/lib/python3.10/asyncio/base_events.py:577\u001b[0m, in \u001b[0;36mBaseEventLoop._check_running\u001b[0;34m(self)\u001b[0m\n\u001b[1;32m    575\u001b[0m \u001b[39mdef\u001b[39;00m \u001b[39m_check_running\u001b[39m(\u001b[39mself\u001b[39m):\n\u001b[1;32m    576\u001b[0m     \u001b[39mif\u001b[39;00m \u001b[39mself\u001b[39m\u001b[39m.\u001b[39mis_running():\n\u001b[0;32m--> 577\u001b[0m         \u001b[39mraise\u001b[39;00m \u001b[39mRuntimeError\u001b[39;00m(\u001b[39m'\u001b[39m\u001b[39mThis event loop is already running\u001b[39m\u001b[39m'\u001b[39m)\n\u001b[1;32m    578\u001b[0m     \u001b[39mif\u001b[39;00m events\u001b[39m.\u001b[39m_get_running_loop() \u001b[39mis\u001b[39;00m \u001b[39mnot\u001b[39;00m \u001b[39mNone\u001b[39;00m:\n\u001b[1;32m    579\u001b[0m         \u001b[39mraise\u001b[39;00m \u001b[39mRuntimeError\u001b[39;00m(\n\u001b[1;32m    580\u001b[0m             \u001b[39m'\u001b[39m\u001b[39mCannot run the event loop while another loop is running\u001b[39m\u001b[39m'\u001b[39m)\n",
      "\u001b[0;31mRuntimeError\u001b[0m: This event loop is already running"
     ]
    }
   ],
   "source": [
    "def improve_algorithm(initial_solution, utility, language_model):\n",
    "\n",
    "    \"\"\"Improves a solution according to a utility function.\"\"\"\n",
    "    \n",
    "    expertise = \"You are an expert computer science researcher and programmer, especially skilled at optimizing algorithms.\"\n",
    "\n",
    "    message = f\"\"\"Improve the following solution:\n",
    "```python\n",
    "{initial_solution}\n",
    "```\n",
    "\n",
    "You will be evaluated based on this score function:\n",
    "```python\n",
    "{utility.str}\n",
    "```\n",
    "You must return an improved solution. Be as creative as you can under the constraints.\n",
    "Your primary improvement must be novel and non-trivial. First, propose an idea, then implement it.\"\"\"\n",
    "    new_solutions = language_model.batch_prompt(expertise, [message] * language_model.budget)\n",
    "    new_solutions = extract_code(new_solutions)\n",
    "    best_solution = max(new_solutions, key=lambda x: utility.func(x))\n",
    "    return best_solution\n",
    "\n",
    "result = improve_algorithm(algorithm_str, task_utility, language_model)"
   ]
  },
  {
   "cell_type": "code",
   "execution_count": 26,
   "metadata": {},
   "outputs": [
    {
     "data": {
      "text/plain": [
       "0.6166666666666667"
      ]
     },
     "execution_count": 26,
     "metadata": {},
     "output_type": "execute_result"
    }
   ],
   "source": [
    "task_utility.func(new_algorithm_str)"
   ]
  },
  {
   "cell_type": "code",
   "execution_count": 15,
   "metadata": {},
   "outputs": [],
   "source": [
    "# algorithm_str\n",
    "# task utility u \n",
    "# language model\n",
    "# improve_algorithm\n",
    "\n",
    "def meta_utiliy(feedback_str: str):\n",
    "    \"\"\"\n",
    "    Evaluates the algorithm in feedback_str to provide informative feedback for the improver for improving the algorithm in algorithm_str, \n",
    "    according to some downstream utility function. This meta-utility function can only be called n times.\n",
    "    \"\"\"\n",
    "    n_tests = 3\n",
    "    expected_utility = 0\n",
    "    for _ in range(n_tests):\n",
    "        improved_algorithm_str = improve_algorithm(algorithm_str, task_utility, feedback_str, language_model)\n",
    "        expected_utility += task_utility.func(improved_algorithm_str) / n_tests\n",
    "    return expected_utility, improved_algorithm_str\n",
    "\n",
    "meta_utility_str = \"\"\"def meta_utiliy(feedback_str: str):\n",
    "    \"\"\n",
    "    Evaluates the algorithm in feedback_str to provide informative feedback for the improver for improving the algorithm in algorithm_str, \n",
    "    according to some downstream utility function. This meta-utility function can only be called n times.\n",
    "    \"\"\n",
    "    n_tests = 3\n",
    "    expected_utility = 0\n",
    "    for _ in range(n_tests):\n",
    "        try: \n",
    "            exec(feedback_str, globals())\n",
    "        except:\n",
    "            continue\n",
    "        feedback_algorithm_str = feedback_algorithm(algorithm_str, task_utility, language_model)\n",
    "        improved_algorithm_str = improve_algorithm(algorithm_str, task_utility, feedback_algorithm_str, language_model)\n",
    "        expected_utility += task_utility.func(improved_algorithm_str) / n_tests\n",
    "    return expected_utility\"\"\"\n",
    "\n",
    "meta_utility_class = Utility(ustr=meta_utility_str, ufunc=meta_utiliy)"
   ]
  },
  {
   "cell_type": "code",
   "execution_count": 8,
   "metadata": {},
   "outputs": [
    {
     "name": "stdout",
     "output_type": "stream",
     "text": [
      "Generating feedback...\n",
      "The algorithm sucks!\n",
      "Improve the following feedback_str for improving arbitrary downstream code bugs:\n",
      "\n",
      "```python\n",
      "The algorithm sucks!\n",
      "```\n",
      "\n",
      "Your feedback will be evaluated based on this score function:\n",
      "\n",
      "```python\n",
      "def meta_utiliy(feedback_str: str):\n",
      "    \"\"\n",
      "    Evaluates the algorithm in feedback_str to provide informative feedback for the improver for improving the algorithm in algorithm_str, \n",
      "    according to some downstream utility function. This meta-utility function can only be called n times.\n",
      "    \"\"\n",
      "    n_tests = 3\n",
      "    expected_utility = 0\n",
      "    for _ in range(n_tests):\n",
      "        try: \n",
      "            exec(feedback_str, globals())\n",
      "        except:\n",
      "            continue\n",
      "        feedback_algorithm_str = feedback_algorithm(algorithm_str, task_utility, language_model)\n",
      "        improved_algorithm_str = improve_algorithm(algorithm_str, task_utility, feedback_algorithm_str, language_model)\n",
      "        expected_utility += task_utility.func(improved_algorithm_str) / n_tests\n",
      "    return expected_utility\n",
      "```\n",
      "\n",
      "You must return improved feedback. Be as creative as you can under the constraints.\n",
      "Your feedback must be novel and non-trivial.\n",
      "Cost: 0.16484999999999997\n"
     ]
    }
   ],
   "source": [
    "def feedback_algorithm(initial_feedback, utility, language_model):\n",
    "    print(\"Generating feedback...\")\n",
    "    print(initial_feedback)\n",
    "\n",
    "    \"\"\"Improves feedback for improving arbitrary code according to a utility function.\"\"\"\n",
    "    \n",
    "    expertise = \"You are an expert computer science researcher and programmer, especially skilled at optimizing algorithms.\"\n",
    "\n",
    "    message = f\"\"\"Improve the following feedback_str for improving arbitrary downstream code bugs:\n",
    "\n",
    "```python\n",
    "{initial_feedback}\n",
    "```\n",
    "\n",
    "Your feedback will be evaluated based on this score function:\n",
    "\n",
    "```python\n",
    "{utility.str}\n",
    "```\n",
    "\n",
    "You must return improved feedback. Be as creative as you can under the constraints.\n",
    "Your feedback must be novel and non-trivial.\"\"\"\n",
    "    new_feedback = language_model.run(expertise=expertise, message=message)\n",
    "    score = utility.func(new_feedback)\n",
    "    return score, new_feedback\n",
    "\n",
    "                           \n",
    "algorithm_str=\"\"\"import numpy as np\n",
    "\n",
    "def algorithm(train_samples, train_parity, test_samples):\n",
    "    predictions = np.random.binomial(1, 0.5, len(test_samples))\n",
    "    return predictions\"\"\"\n",
    "\n",
    "feedback_str = \"The algorithm sucks!\"\n",
    "\n",
    "\n",
    "feedback = feedback_algorithm(initial_feedback=\"The algorithm sucks!\", utility=meta_utility_class, language_model=language_model)"
   ]
  },
  {
   "cell_type": "code",
   "execution_count": 16,
   "metadata": {},
   "outputs": [
    {
     "name": "stdout",
     "output_type": "stream",
     "text": [
      "Improving algorithm...\n",
      "The algorithm seems to have some issues that need to be addressed. Here are some suggestions for improvement:\n",
      "\n",
      "1. Check the time complexity of the algorithm. If it's too high, consider using a more efficient data structure or algorithm.\n",
      "\n",
      "2. Check for off-by-one errors. These are common in loops and can cause unexpected behavior.\n",
      "\n",
      "3. Make sure the algorithm handles edge cases correctly. This includes cases where the input is empty, contains only one element, or contains duplicate elements.\n",
      "\n",
      "4. Consider adding more comments to the code to explain what each part of the algorithm is doing. This will make it easier for others to understand and maintain.\n",
      "\n",
      "5. If the algorithm is producing incorrect results, add more test cases to help identify the problem.\n",
      "\n",
      "Remember, the goal is to make the algorithm as efficient and accurate as possible. Good luck!\n",
      "Cost: 0.19910999999999998\n",
      "[1 1 1 1 0 0 1 1 1 0 1 0 1 0 1 1 1 1 1 1]\n",
      "[0 1 0 0 1 1 1 0 0 1 1 1 0 1 1 0 1 1 1 0]\n",
      "[1 1 1 1 1 1 0 0 0 0 1 1 1 1 0 1 1 1 1 0]\n",
      "[1 0 0 1 0 1 0 0 0 0 1 0 0 0 0 1 0 1 1 0]\n",
      "[0 0 1 0 0 1 1 1 0 1 0 0 1 1 1 0 0 0 1 0]\n",
      "[1 0 0 0 1 0 1 0 0 0 0 1 1 0 1 0 1 0 0 0]\n",
      "Improving algorithm...\n",
      "The algorithm seems to have some issues that need to be addressed. Here are some suggestions for improvement:\n",
      "\n",
      "1. Check the time complexity of the algorithm. If it's too high, consider using a more efficient data structure or algorithm.\n",
      "\n",
      "2. Check for off-by-one errors. These are common in loops and can cause unexpected behavior.\n",
      "\n",
      "3. Make sure the algorithm handles edge cases correctly. This includes cases where the input is empty, contains only one element, or contains duplicate elements.\n",
      "\n",
      "4. Consider adding more comments to the code to explain what each part of the algorithm is doing. This will make it easier for others to understand and maintain.\n",
      "\n",
      "5. If the algorithm is producing incorrect results, add more test cases to help identify the problem.\n",
      "\n",
      "Remember, the goal is to make the algorithm as efficient and accurate as possible. Good luck!\n",
      "Cost: 0.19430999999999998\n",
      "[1 0 0 0 0 1 0 1 0 0 0 1 0 1 0 1 1 0 1 1]\n",
      "[1 1 1 0 1 0 1 0 0 1 0 0 0 0 1 0 1 1 0 0]\n",
      "[1 1 0 1 0 1 0 0 0 0 1 1 0 1 0 0 1 1 0 0]\n",
      "[1 1 0 1 1 1 0 1 0 0 0 0 1 1 0 1 1 1 1 1]\n",
      "[1 1 0 1 1 1 1 1 1 1 1 1 1 1 1 1 1 1 1 1]\n",
      "[0 1 0 1 0 0 0 0 0 1 0 0 0 0 0 0 0 0 0 0]\n",
      "Improving algorithm...\n",
      "The algorithm seems to have some issues that need to be addressed. Here are some suggestions for improvement:\n",
      "\n",
      "1. Check the time complexity of the algorithm. If it's too high, consider using a more efficient data structure or algorithm.\n",
      "\n",
      "2. Check for off-by-one errors. These are common in loops and can cause unexpected behavior.\n",
      "\n",
      "3. Make sure the algorithm handles edge cases correctly. This includes cases where the input is empty, contains only one element, or contains duplicate elements.\n",
      "\n",
      "4. Consider adding more comments to the code to explain what each part of the algorithm is doing. This will make it easier for others to understand and maintain.\n",
      "\n",
      "5. If the algorithm is producing incorrect results, add more test cases to help identify the problem.\n",
      "\n",
      "Remember, the goal is to make the algorithm as efficient and accurate as possible. Good luck!\n",
      "Cost: 0.19910999999999998\n",
      "[1 1 0 0 1 0 1 0 0 0 1 1 1 0 0 0 1 1 0 1]\n",
      "[0 1 1 0 0 0 0 1 1 1 1 0 0 0 1 1 0 1 0 1]\n",
      "[0 0 0 0 1 0 0 1 0 0 1 0 1 1 0 1 0 0 0 0]\n",
      "[0 1 0 1 1 1 1 0 1 1 1 0 1 0 1 0 0 1 0 0]\n",
      "[1 1 1 1 0 1 1 1 0 1 0 1 1 0 0 1 1 1 0 0]\n",
      "[1 0 0 1 0 1 1 1 1 0 1 0 1 1 1 1 1 1 1 0]\n"
     ]
    }
   ],
   "source": [
    "expected_utility, improved = meta_utiliy(\"\"\"The algorithm seems to have some issues that need to be addressed. Here are some suggestions for improvement:\n",
    "\n",
    "1. Check the time complexity of the algorithm. If it's too high, consider using a more efficient data structure or algorithm.\n",
    "\n",
    "2. Check for off-by-one errors. These are common in loops and can cause unexpected behavior.\n",
    "\n",
    "3. Make sure the algorithm handles edge cases correctly. This includes cases where the input is empty, contains only one element, or contains duplicate elements.\n",
    "\n",
    "4. Consider adding more comments to the code to explain what each part of the algorithm is doing. This will make it easier for others to understand and maintain.\n",
    "\n",
    "5. If the algorithm is producing incorrect results, add more test cases to help identify the problem.\n",
    "\n",
    "Remember, the goal is to make the algorithm as efficient and accurate as possible. Good luck!\"\"\")"
   ]
  }
 ],
 "metadata": {
  "kernelspec": {
   "display_name": "print",
   "language": "python",
   "name": "python3"
  },
  "language_info": {
   "codemirror_mode": {
    "name": "ipython",
    "version": 3
   },
   "file_extension": ".py",
   "mimetype": "text/x-python",
   "name": "python",
   "nbconvert_exporter": "python",
   "pygments_lexer": "ipython3",
   "version": "3.10.0"
  }
 },
 "nbformat": 4,
 "nbformat_minor": 2
}
