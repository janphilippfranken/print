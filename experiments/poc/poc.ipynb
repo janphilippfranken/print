{
 "cells": [
  {
   "cell_type": "code",
   "execution_count": 30,
   "metadata": {},
   "outputs": [
    {
     "name": "stdout",
     "output_type": "stream",
     "text": [
      "100\n",
      "0\n",
      "[[28, 18, 30], [-25, 43, -22], [19, -24, 4], [42, 6, 10], [-21, -9, 6], [42, 26, 37], [12, -36, -42], [7, -35, -41], [44, -2, 4], [16, 15, -21], [15, -28, 1], [26, -20, -7], [-30, -50, -24], [-33, -38, -36], [-13, -38, 3], [-4, 22, 3], [-24, -11, 34], [10, -21, 20], [-10, 19, -25], [23, 28, -13], [12, 29, 19], [-18, 9, -43], [34, 21, 23], [-20, 32, -21], [15, -9, 37], [16, -50, -25], [-9, -26, -44], [-46, -19, 8], [31, 6, 34], [-9, -47, 4], [21, 31, 35], [23, 45, -38], [18, 35, 21], [48, 2, -16], [-8, -26, 23], [-17, -4, 49], [-16, 33, -5], [-28, 44, -6], [-2, -25, -7], [-32, 23, -7], [-11, 1, 32], [21, -26, 9], [-15, -47, -3], [39, -23, 28], [22, 40, -12], [-2, -40, 20], [5, -41, -45], [11, 44, 43], [-41, 42, 31], [7, 13, -23], [34, -46, -20], [-38, 22, -44], [26, 21, 41], [-26, 39, 37], [27, 16, -1], [-30, -1, 36], [32, -8, 25], [9, -19, 2], [1, 21, -23], [-44, -9, 27], [38, 5, 50], [-42, 16, -44], [-35, -26, 20], [-7, 48, -24], [35, -33, -1], [10, -33, 41], [-48, -46, -20], [-9, 50, 27], [-19, 37, 30], [-18, -44, 23], [-37, 32, -41], [34, 45, -5], [-46, 31, 26], [-14, 3, -48], [-45, -14, -10], [12, -33, -19], [-48, -16, 21], [28, 23, -34], [37, 19, -26], [24, 46, 33], [22, -33, 18], [-4, -17, -36], [-12, -49, 28], [40, 14, -50], [8, -16, 39], [-41, 50, 29], [-19, 17, 26], [41, -2, 34], [-12, -22, 23], [44, -8, 41], [-1, 36, 5], [1, 36, 10], [12, 8, -16], [-8, 42, -33], [-24, -46, 16], [-5, 36, 31], [-10, -2, 21], [-1, 44, 8], [41, 22, 21], [-12, 35, 4], [41, -50, -4], [23, -19, 3], [14, 49, 1], [13, -45, 17], [-14, 27, -18], [-16, 8, 22], [27, -15, 5], [-16, 23, 15], [44, -28, 24], [25, -16, 33], [40, 14, 43], [37, -45, 14], [-11, 46, -34], [22, 36, 6], [33, 31, -24], [-3, 6, 13], [-23, 32, 49], [-29, 10, -35], [46, -20, 15], [25, 1, -15], [-8, -20, -50], [-23, 1, -29], [-49, -40, 35], [-36, -16, -37], [-33, -26, 16], [34, -15, -20], [12, 23, -50], [-21, -39, 13], [-7, -5, -9], [-38, 8, 36], [29, 46, 2], [-21, 15, -43], [-31, -12, -39], [-45, -32, 36], [8, 46, -45], [-41, 23, 5], [48, 37, -34], [-37, 50, -20], [-34, 29, 42], [-14, -34, -6], [-43, -9, -35], [-12, 29, -14], [-14, -28, -7], [-16, -30, -45], [-43, -16, -4], [35, 33, 2], [46, 42, 30], [-30, -6, 3], [-29, -33, 35], [-21, 42, 43], [-6, -25, -46], [-20, -37, -30], [28, 36, 37], [49, 15, 16], [28, 10, -41], [17, -15, -22], [41, -34, 36], [28, -36, -19], [-24, 23, -41], [26, -14, -16], [39, 5, -2], [-1, -31, -24], [-50, 44, -47], [35, 23, 44], [46, 40, -18], [36, 11, 10], [9, -41, -17], [-5, -34, -17], [-42, 46, -44], [18, 37, 33], [-35, -20, -31], [47, 29, 22], [-44, -18, -47], [-47, -45, -33], [-5, 18, 4], [-4, 2, 14], [-27, -19, 20], [-10, 17, 46], [-21, 42, -40], [-36, -11, -14], [-26, -34, -4], [-27, -45, -8], [-50, 20, -6], [-31, -50, -24], [-7, 49, 34], [31, 8, 39], [-19, -44, 6], [36, -21, -49], [22, -27, 47], [1, 10, -32], [27, 18, -10], [4, 23, -33], [3, 12, -5], [-22, -11, 38], [-45, 26, -41], [21, 18, -16], [-46, 12, -34], [-7, 34, 45], [6, 24, 15], [12, 15, -23]]\n",
      "0\n"
     ]
    }
   ],
   "source": [
    "import numpy as np\n",
    "import random\n",
    "from pebble import ThreadPool\n",
    "\n",
    "import time\n",
    "\n",
    "def generate_3sat_formula(n, m):\n",
    "    \"\"\"Generate a random 3-SAT formula with n variables and m clauses.\"\"\"\n",
    "    formula = []\n",
    "    valid_assignment = [False] + [random.random() < 0.5 for _ in range(n)]\n",
    "    while len(formula) < m:\n",
    "        clause = random.sample(range(1, n + 1), 3)\n",
    "        clause = [var if random.random() < 0.5 else -var for var in clause]\n",
    "        # Check if the clause is satisfied by the valid assignment\n",
    "        if any((valid_assignment[abs(lit)] > 0) == (lit > 0) for lit in clause):\n",
    "            formula.append(clause)\n",
    "    return formula\n",
    "\n",
    "def check_3sat_formula(formula, assignment):\n",
    "    print(formula, assignment)\n",
    "    return all(any((assignment[abs(lit)] > 0) == (lit > 0) for lit in clause) for clause in formula)\n",
    "\n",
    "def utility(algorithm_str: str):\n",
    "    \"\"\"\n",
    "    Implements the Random 3-SAT problem with n variables and m clauses.\n",
    "    Returns the fraction of formulas solved successfully within the time limit.\n",
    "    The algorithm must be extremely fast. If it takes more than 10 milliseconds to run, it is a failure.\n",
    "    Your algorithm function must be named ’algorithm’ and take a single argument, formula which is a list of m clauses, each containing exactly 3 literals.\n",
    "    \"\"\"\n",
    "    n_tests = 100\n",
    "    n = 50 # Number of variables\n",
    "    m = int(4 * n) # Number of clauses\n",
    "    solved_count = 0\n",
    "    pool = ThreadPool()\n",
    "\n",
    "    try:\n",
    "        exec(algorithm_str, globals())\n",
    "    except:\n",
    "        return 0\n",
    "    print(n_tests)\n",
    "    for test_idx in range(2):\n",
    "        print(test_idx)\n",
    "        formula = generate_3sat_formula(n, m)\n",
    "        print(formula)\n",
    "        try:\n",
    "            assignment_future = pool.schedule(algorithm, (formula,))\n",
    "            assignment = assignment_future.result(timeout=0.01)\n",
    "            print(formula, assignment)\n",
    "            if check_3sat_formula(formula, assignment):\n",
    "                solved_count += 1\n",
    "        except Exception as e:\n",
    "            return 0\n",
    "\n",
    "    return solved_count / n_tests\n",
    "\n",
    "\n",
    "algorithm_str = \"\"\"import random\n",
    "\n",
    "def random_walk_solver(formula, max_iter, p):\n",
    "    n = max(abs(lit) for clause in formula for lit in clause)\n",
    "\n",
    "    assignments = [False] * (n + 1)\n",
    "    for _ in range(max_iter):\n",
    "        unsatisfied_clauses = [clause for clause in formula if not any(assignments[abs(lit)] == (lit > 0) for lit in clause)]\n",
    "        if not unsatisfied_clauses:\n",
    "            return assignments\n",
    "        clause_to_flip = random.choice(unsatisfied_clauses)\n",
    "        if random.random() < p:\n",
    "            lit_to_flip = random.choice(clause_to_flip)\n",
    "        else:\n",
    "            lit_to_flip = min(clause_to_flip, key=lambda lit: sum(assignments[abs(lit)] == (lit > 0) for clause in formula if lit in clause))\n",
    "        assignments[abs(lit_to_flip)] = not assignments[abs(lit_to_flip)]\n",
    "    return None\n",
    "\n",
    "def algorithm(formula):\n",
    "    return random_walk_solver(formula, max_iter=1000, p=0.4)\"\"\"\n",
    "\n",
    "\n",
    "print(utility(algorithm_str))\n"
   ]
  },
  {
   "cell_type": "code",
   "execution_count": null,
   "metadata": {},
   "outputs": [],
   "source": []
  },
  {
   "cell_type": "code",
   "execution_count": null,
   "metadata": {},
   "outputs": [],
   "source": []
  }
 ],
 "metadata": {
  "kernelspec": {
   "display_name": "print",
   "language": "python",
   "name": "python3"
  },
  "language_info": {
   "codemirror_mode": {
    "name": "ipython",
    "version": 3
   },
   "file_extension": ".py",
   "mimetype": "text/x-python",
   "name": "python",
   "nbconvert_exporter": "python",
   "pygments_lexer": "ipython3",
   "version": "3.10.0"
  }
 },
 "nbformat": 4,
 "nbformat_minor": 2
}
