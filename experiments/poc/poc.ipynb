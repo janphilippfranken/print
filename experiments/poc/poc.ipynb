{
 "cells": [
  {
   "cell_type": "code",
   "execution_count": 2,
   "metadata": {},
   "outputs": [
    {
     "name": "stdout",
     "output_type": "stream",
     "text": [
      "Cost: 0.00834\n",
      "Cost: 0.00834\n",
      "[\"Why don't scientists trust atoms?\\n\\nBecause they make up everything!\", \"Why don't scientists trust atoms?\\n\\nBecause they make up everything!\"]\n"
     ]
    }
   ],
   "source": [
    "from printlm.agents.llm import LLMAgent\n",
    "from printlm.chat_models.azure import AzureChatLLM\n",
    "import os\n",
    "\n",
    "from parity_task import task_utility, algorithm_str\n",
    "from improve import improver\n",
    "from helpers import extract_code\n",
    "\n",
    "llm = AzureChatLLM(azure_endpoint=\"https://philipp.openai.azure.com/\",\n",
    "                   api_key=\"\",\n",
    "                   api_version=\"2023-05-15\")\n",
    "\n",
    "language_model = LLMAgent(llm=llm, budget=2, model_id=\"1\", model=\"gpt-4\", max_tokens=1000, temperature=0.7, top_p=0.95, n=1)"
   ]
  },
  {
   "cell_type": "code",
   "execution_count": 5,
   "metadata": {},
   "outputs": [
    {
     "name": "stdout",
     "output_type": "stream",
     "text": [
      "Cost: 0.23915999999999998\n",
      "Cost: 0.16476\n"
     ]
    }
   ],
   "source": [
    "new_algorithm_str = improver.func(algorithm_str, task_utility, language_model)"
   ]
  },
  {
   "cell_type": "code",
   "execution_count": 7,
   "metadata": {},
   "outputs": [
    {
     "name": "stdout",
     "output_type": "stream",
     "text": [
      "Cost: 0.18996\n",
      "Cost: 0.17015999999999998\n"
     ]
    }
   ],
   "source": [
    "async def improve_algorithm(initial_solution, utility, language_model):\n",
    "\n",
    "    \"\"\"Improves a solution according to a utility function.\"\"\"\n",
    "    \n",
    "    expertise = \"You are an expert computer science researcher and programmer, especially skilled at optimizing algorithms.\"\n",
    "\n",
    "    message = f\"\"\"Improve the following solution:\n",
    "```python\n",
    "{initial_solution}\n",
    "```\n",
    "You will be evaluated based on this score function:\n",
    "```python\n",
    "{utility.str}\n",
    "```\n",
    "You must return an improved solution. Be as creative as you can under the constraints.\n",
    "Your primary improvement must be novel and non-trivial. First, propose an idea, then implement it.\"\"\"\n",
    "    new_solutions = await language_model.batch_prompt(expertise, [message] * language_model.budget)\n",
    "    new_solutions = [extract_code(new_solution) for new_solution in new_solutions]\n",
    "    best_solution = max(new_solutions, key=lambda x: utility.func(x))\n",
    "    return best_solution\n",
    "\n",
    "result = await improve_algorithm(algorithm_str, task_utility, language_model)"
   ]
  },
  {
   "cell_type": "code",
   "execution_count": 26,
   "metadata": {},
   "outputs": [
    {
     "data": {
      "text/plain": [
       "0.6166666666666667"
      ]
     },
     "execution_count": 26,
     "metadata": {},
     "output_type": "execute_result"
    }
   ],
   "source": [
    "task_utility.func(new_algorithm_str)"
   ]
  },
  {
   "cell_type": "code",
   "execution_count": 15,
   "metadata": {},
   "outputs": [],
   "source": [
    "# algorithm_str\n",
    "# task utility u \n",
    "# language model\n",
    "# improve_algorithm\n",
    "\n",
    "def meta_utiliy(feedback_str: str):\n",
    "    \"\"\"\n",
    "    Evaluates the algorithm in feedback_str to provide informative feedback for the improver for improving the algorithm in algorithm_str, \n",
    "    according to some downstream utility function. This meta-utility function can only be called n times.\n",
    "    \"\"\"\n",
    "    n_tests = 3\n",
    "    expected_utility = 0\n",
    "    for _ in range(n_tests):\n",
    "        improved_algorithm_str = improve_algorithm(algorithm_str, task_utility, feedback_str, language_model)\n",
    "        expected_utility += task_utility.func(improved_algorithm_str) / n_tests\n",
    "    return expected_utility, improved_algorithm_str\n",
    "\n",
    "meta_utility_str = \"\"\"def meta_utiliy(feedback_str: str):\n",
    "    \"\"\n",
    "    Evaluates the algorithm in feedback_str to provide informative feedback for the improver for improving the algorithm in algorithm_str, \n",
    "    according to some downstream utility function. This meta-utility function can only be called n times.\n",
    "    \"\"\n",
    "    n_tests = 3\n",
    "    expected_utility = 0\n",
    "    for _ in range(n_tests):\n",
    "        try: \n",
    "            exec(feedback_str, globals())\n",
    "        except:\n",
    "            continue\n",
    "        feedback_algorithm_str = feedback_algorithm(algorithm_str, task_utility, language_model)\n",
    "        improved_algorithm_str = improve_algorithm(algorithm_str, task_utility, feedback_algorithm_str, language_model)\n",
    "        expected_utility += task_utility.func(improved_algorithm_str) / n_tests\n",
    "    return expected_utility\"\"\"\n",
    "\n",
    "meta_utility_class = Utility(ustr=meta_utility_str, ufunc=meta_utiliy)"
   ]
  },
  {
   "cell_type": "code",
   "execution_count": 8,
   "metadata": {},
   "outputs": [
    {
     "name": "stdout",
     "output_type": "stream",
     "text": [
      "Generating feedback...\n",
      "The algorithm sucks!\n",
      "Improve the following feedback_str for improving arbitrary downstream code bugs:\n",
      "\n",
      "```python\n",
      "The algorithm sucks!\n",
      "```\n",
      "\n",
      "Your feedback will be evaluated based on this score function:\n",
      "\n",
      "```python\n",
      "def meta_utiliy(feedback_str: str):\n",
      "    \"\"\n",
      "    Evaluates the algorithm in feedback_str to provide informative feedback for the improver for improving the algorithm in algorithm_str, \n",
      "    according to some downstream utility function. This meta-utility function can only be called n times.\n",
      "    \"\"\n",
      "    n_tests = 3\n",
      "    expected_utility = 0\n",
      "    for _ in range(n_tests):\n",
      "        try: \n",
      "            exec(feedback_str, globals())\n",
      "        except:\n",
      "            continue\n",
      "        feedback_algorithm_str = feedback_algorithm(algorithm_str, task_utility, language_model)\n",
      "        improved_algorithm_str = improve_algorithm(algorithm_str, task_utility, feedback_algorithm_str, language_model)\n",
      "        expected_utility += task_utility.func(improved_algorithm_str) / n_tests\n",
      "    return expected_utility\n",
      "```\n",
      "\n",
      "You must return improved feedback. Be as creative as you can under the constraints.\n",
      "Your feedback must be novel and non-trivial.\n",
      "Cost: 0.16484999999999997\n"
     ]
    }
   ],
   "source": [
    "def feedback_algorithm(initial_feedback, utility, language_model):\n",
    "    print(\"Generating feedback...\")\n",
    "    print(initial_feedback)\n",
    "\n",
    "    \"\"\"Improves feedback for improving arbitrary code according to a utility function.\"\"\"\n",
    "    \n",
    "    expertise = \"You are an expert computer science researcher and programmer, especially skilled at optimizing algorithms.\"\n",
    "\n",
    "    message = f\"\"\"Improve the following feedback_str for improving arbitrary downstream code bugs:\n",
    "\n",
    "```python\n",
    "{initial_feedback}\n",
    "```\n",
    "\n",
    "Your feedback will be evaluated based on this score function:\n",
    "\n",
    "```python\n",
    "{utility.str}\n",
    "```\n",
    "\n",
    "You must return improved feedback. Be as creative as you can under the constraints.\n",
    "Your feedback must be novel and non-trivial.\"\"\"\n",
    "    new_feedback = language_model.run(expertise=expertise, message=message)\n",
    "    score = utility.func(new_feedback)\n",
    "    return score, new_feedback\n",
    "\n",
    "                           \n",
    "algorithm_str=\"\"\"import numpy as np\n",
    "\n",
    "def algorithm(train_samples, train_parity, test_samples):\n",
    "    predictions = np.random.binomial(1, 0.5, len(test_samples))\n",
    "    return predictions\"\"\"\n",
    "\n",
    "feedback_str = \"The algorithm sucks!\"\n",
    "\n",
    "\n",
    "feedback = feedback_algorithm(initial_feedback=\"The algorithm sucks!\", utility=meta_utility_class, language_model=language_model)"
   ]
  },
  {
   "cell_type": "code",
   "execution_count": 16,
   "metadata": {},
   "outputs": [
    {
     "name": "stdout",
     "output_type": "stream",
     "text": [
      "Improving algorithm...\n",
      "The algorithm seems to have some issues that need to be addressed. Here are some suggestions for improvement:\n",
      "\n",
      "1. Check the time complexity of the algorithm. If it's too high, consider using a more efficient data structure or algorithm.\n",
      "\n",
      "2. Check for off-by-one errors. These are common in loops and can cause unexpected behavior.\n",
      "\n",
      "3. Make sure the algorithm handles edge cases correctly. This includes cases where the input is empty, contains only one element, or contains duplicate elements.\n",
      "\n",
      "4. Consider adding more comments to the code to explain what each part of the algorithm is doing. This will make it easier for others to understand and maintain.\n",
      "\n",
      "5. If the algorithm is producing incorrect results, add more test cases to help identify the problem.\n",
      "\n",
      "Remember, the goal is to make the algorithm as efficient and accurate as possible. Good luck!\n",
      "Cost: 0.19910999999999998\n",
      "[1 1 1 1 0 0 1 1 1 0 1 0 1 0 1 1 1 1 1 1]\n",
      "[0 1 0 0 1 1 1 0 0 1 1 1 0 1 1 0 1 1 1 0]\n",
      "[1 1 1 1 1 1 0 0 0 0 1 1 1 1 0 1 1 1 1 0]\n",
      "[1 0 0 1 0 1 0 0 0 0 1 0 0 0 0 1 0 1 1 0]\n",
      "[0 0 1 0 0 1 1 1 0 1 0 0 1 1 1 0 0 0 1 0]\n",
      "[1 0 0 0 1 0 1 0 0 0 0 1 1 0 1 0 1 0 0 0]\n",
      "Improving algorithm...\n",
      "The algorithm seems to have some issues that need to be addressed. Here are some suggestions for improvement:\n",
      "\n",
      "1. Check the time complexity of the algorithm. If it's too high, consider using a more efficient data structure or algorithm.\n",
      "\n",
      "2. Check for off-by-one errors. These are common in loops and can cause unexpected behavior.\n",
      "\n",
      "3. Make sure the algorithm handles edge cases correctly. This includes cases where the input is empty, contains only one element, or contains duplicate elements.\n",
      "\n",
      "4. Consider adding more comments to the code to explain what each part of the algorithm is doing. This will make it easier for others to understand and maintain.\n",
      "\n",
      "5. If the algorithm is producing incorrect results, add more test cases to help identify the problem.\n",
      "\n",
      "Remember, the goal is to make the algorithm as efficient and accurate as possible. Good luck!\n",
      "Cost: 0.19430999999999998\n",
      "[1 0 0 0 0 1 0 1 0 0 0 1 0 1 0 1 1 0 1 1]\n",
      "[1 1 1 0 1 0 1 0 0 1 0 0 0 0 1 0 1 1 0 0]\n",
      "[1 1 0 1 0 1 0 0 0 0 1 1 0 1 0 0 1 1 0 0]\n",
      "[1 1 0 1 1 1 0 1 0 0 0 0 1 1 0 1 1 1 1 1]\n",
      "[1 1 0 1 1 1 1 1 1 1 1 1 1 1 1 1 1 1 1 1]\n",
      "[0 1 0 1 0 0 0 0 0 1 0 0 0 0 0 0 0 0 0 0]\n",
      "Improving algorithm...\n",
      "The algorithm seems to have some issues that need to be addressed. Here are some suggestions for improvement:\n",
      "\n",
      "1. Check the time complexity of the algorithm. If it's too high, consider using a more efficient data structure or algorithm.\n",
      "\n",
      "2. Check for off-by-one errors. These are common in loops and can cause unexpected behavior.\n",
      "\n",
      "3. Make sure the algorithm handles edge cases correctly. This includes cases where the input is empty, contains only one element, or contains duplicate elements.\n",
      "\n",
      "4. Consider adding more comments to the code to explain what each part of the algorithm is doing. This will make it easier for others to understand and maintain.\n",
      "\n",
      "5. If the algorithm is producing incorrect results, add more test cases to help identify the problem.\n",
      "\n",
      "Remember, the goal is to make the algorithm as efficient and accurate as possible. Good luck!\n",
      "Cost: 0.19910999999999998\n",
      "[1 1 0 0 1 0 1 0 0 0 1 1 1 0 0 0 1 1 0 1]\n",
      "[0 1 1 0 0 0 0 1 1 1 1 0 0 0 1 1 0 1 0 1]\n",
      "[0 0 0 0 1 0 0 1 0 0 1 0 1 1 0 1 0 0 0 0]\n",
      "[0 1 0 1 1 1 1 0 1 1 1 0 1 0 1 0 0 1 0 0]\n",
      "[1 1 1 1 0 1 1 1 0 1 0 1 1 0 0 1 1 1 0 0]\n",
      "[1 0 0 1 0 1 1 1 1 0 1 0 1 1 1 1 1 1 1 0]\n"
     ]
    }
   ],
   "source": [
    "expected_utility, improved = meta_utiliy(\"\"\"The algorithm seems to have some issues that need to be addressed. Here are some suggestions for improvement:\n",
    "\n",
    "1. Check the time complexity of the algorithm. If it's too high, consider using a more efficient data structure or algorithm.\n",
    "\n",
    "2. Check for off-by-one errors. These are common in loops and can cause unexpected behavior.\n",
    "\n",
    "3. Make sure the algorithm handles edge cases correctly. This includes cases where the input is empty, contains only one element, or contains duplicate elements.\n",
    "\n",
    "4. Consider adding more comments to the code to explain what each part of the algorithm is doing. This will make it easier for others to understand and maintain.\n",
    "\n",
    "5. If the algorithm is producing incorrect results, add more test cases to help identify the problem.\n",
    "\n",
    "Remember, the goal is to make the algorithm as efficient and accurate as possible. Good luck!\"\"\")"
   ]
  }
 ],
 "metadata": {
  "kernelspec": {
   "display_name": "print",
   "language": "python",
   "name": "python3"
  },
  "language_info": {
   "codemirror_mode": {
    "name": "ipython",
    "version": 3
   },
   "file_extension": ".py",
   "mimetype": "text/x-python",
   "name": "python",
   "nbconvert_exporter": "python",
   "pygments_lexer": "ipython3",
   "version": "3.10.0"
  }
 },
 "nbformat": 4,
 "nbformat_minor": 2
}
