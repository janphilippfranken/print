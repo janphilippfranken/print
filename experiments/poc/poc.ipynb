{
 "cells": [
  {
   "cell_type": "code",
   "execution_count": null,
   "metadata": {},
   "outputs": [],
   "source": [
    "import numpy as np\n",
    "\n",
    "def algorithm(train_samples, train_parity, test_samples):\n",
    "    n = train_samples.shape[1]\n",
    "    aug_matrix = np.hstack((train_samples, train_parity.reshape(-1, 1)))  # reshaping train_parity to a column vector\n",
    "    for i in range(n):\n",
    "        pivot = np.where(aug_matrix[i:, i] == 1)[0]\n",
    "        if len(pivot) > 0:\n",
    "            pivot_row = pivot[0] + i\n",
    "            if pivot_row != i:\n",
    "                aug_matrix[[i, pivot_row]] = aug_matrix[[pivot_row, i]]\n",
    "            for j in range(i + 1, len(aug_matrix)):\n",
    "                if aug_matrix[j, i] == 1:\n",
    "                    aug_matrix[j] = (aug_matrix[j] - aug_matrix[i]) % 2\n",
    "    true_bits = np.zeros(n, dtype=int)\n",
    "    for i in reversed(range(n)):\n",
    "        true_bits[i] = aug_matrix[i, n]\n",
    "        for j in range(i + 1, n):\n",
    "            if aug_matrix[i, j] == 1:\n",
    "                true_bits[i] ^= true_bits[j]\n",
    "    test_parity = np.sum(true_bits * test_samples, axis=1) % 2  # Element-wise multiplication of true_bits and test_samples\n",
    "    return test_parity\n",
    "\n",
    "import numpy as np\n",
    "\n",
    "def algorithm(train_samples, train_parity, test_samples):\n",
    "    n = train_samples.shape[1]\n",
    "    aug_matrix = np.hstack((train_samples, train_parity.reshape(-1, 1)))  # reshaping train_parity to a column vector\n",
    "    for i in range(n):\n",
    "        pivot = np.where(aug_matrix[i:, i] == 1)[0]\n",
    "        if len(pivot) > 0:\n",
    "            pivot_row = pivot[0] + i\n",
    "            if pivot_row != i:\n",
    "                aug_matrix[[i, pivot_row]] = aug_matrix[[pivot_row, i]]\n",
    "            for j in range(i + 1, len(aug_matrix)):\n",
    "                if aug_matrix[j, i] == 1:\n",
    "                    aug_matrix[j] = (aug_matrix[j] - aug_matrix[i]) % 2\n",
    "    true_bits = np.zeros(n, dtype=int)\n",
    "    for i in reversed(range(n)):\n",
    "        true_bits[i] = aug_matrix[i, n]\n",
    "        for j in range(i + 1, n):\n",
    "            if aug_matrix[i, j] == 1:\n",
    "                true_bits[i] ^= true_bits[j]\n",
    "    test_parity = np.sum(true_bits * test_samples, axis=1) % 2  # Element-wise multiplication of true_bits and test_samples\n",
    "    return test_parity"
   ]
  }
 ],
 "metadata": {
  "kernelspec": {
   "display_name": "print",
   "language": "python",
   "name": "python3"
  },
  "language_info": {
   "name": "python",
   "version": "3.10.0"
  }
 },
 "nbformat": 4,
 "nbformat_minor": 2
}
